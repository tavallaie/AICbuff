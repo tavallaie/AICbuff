{
 "cells": [
  {
   "cell_type": "code",
   "execution_count": 1,
   "metadata": {
    "collapsed": false
   },
   "outputs": [
    {
     "name": "stdout",
     "output_type": "stream",
     "text": [
      "dict_keys(['gameConstants', 'map', 'heroConstants', 'abilityConstants'])\n"
     ]
    }
   ],
   "source": [
    "import json\n",
    "from pprint import pprint\n",
    "\n",
    "with open('server_view.log') as f:\n",
    "    data = json.load(f)\n",
    "pprint(data[0].keys())"
   ]
  },
  {
   "cell_type": "code",
   "execution_count": 2,
   "metadata": {
    "collapsed": false,
    "scrolled": false
   },
   "outputs": [
    {
     "name": "stdout",
     "output_type": "stream",
     "text": [
      "{'killScore': 10,\n",
      " 'maxAP': 100,\n",
      " 'maxScore': 100,\n",
      " 'maxTurns': 100,\n",
      " 'objectiveZoneScore': 1,\n",
      " 'timeout': 500}\n"
     ]
    }
   ],
   "source": [
    "pprint(data[0]['gameConstants'])"
   ]
  },
  {
   "cell_type": "code",
   "execution_count": 3,
   "metadata": {
    "collapsed": false,
    "scrolled": true
   },
   "outputs": [
    {
     "name": "stdout",
     "output_type": "stream",
     "text": [
      "dict_keys(['rowNum', 'columnNum', 'cells'])\n"
     ]
    }
   ],
   "source": [
    "pprint(data[0]['map'].keys())"
   ]
  },
  {
   "cell_type": "code",
   "execution_count": 4,
   "metadata": {
    "collapsed": false,
    "scrolled": true
   },
   "outputs": [
    {
     "name": "stdout",
     "output_type": "stream",
     "text": [
      "31\n",
      "31\n"
     ]
    }
   ],
   "source": [
    "pprint(data[0]['map']['rowNum'])\n",
    "pprint(data[0]['map']['columnNum'])"
   ]
  },
  {
   "cell_type": "code",
   "execution_count": 5,
   "metadata": {
    "collapsed": false,
    "scrolled": true
   },
   "outputs": [
    {
     "name": "stdout",
     "output_type": "stream",
     "text": [
      "{'column': 2,\n",
      " 'isInFirstRespawnZone': False,\n",
      " 'isInObjectiveZone': False,\n",
      " 'isInSecondRespawnZone': False,\n",
      " 'isWall': True,\n",
      " 'row': 0}\n"
     ]
    }
   ],
   "source": [
    "pprint(data[0]['map']['cells'][0][2])"
   ]
  },
  {
   "cell_type": "code",
   "execution_count": 6,
   "metadata": {
    "collapsed": false,
    "scrolled": false
   },
   "outputs": [
    {
     "name": "stdout",
     "output_type": "stream",
     "text": [
      "[{'abilityNames': ['SENTRY_ATTACK', 'SENTRY_DODGE', 'SENTRY_RAY'],\n",
      "  'maxHP': 150,\n",
      "  'moveAPCost': 6,\n",
      "  'name': 'SENTRY',\n",
      "  'respawnTime': 5},\n",
      " {'abilityNames': ['BLASTER_ATTACK', 'BLASTER_DODGE', 'BLASTER_BOMB'],\n",
      "  'maxHP': 250,\n",
      "  'moveAPCost': 4,\n",
      "  'name': 'BLASTER',\n",
      "  'respawnTime': 5},\n",
      " {'abilityNames': ['HEALER_ATTACK', 'HEALER_DODGE', 'HEALER_HEAL'],\n",
      "  'maxHP': 200,\n",
      "  'moveAPCost': 4,\n",
      "  'name': 'HEALER',\n",
      "  'respawnTime': 5},\n",
      " {'abilityNames': ['GUARDIAN_ATTACK', 'GUARDIAN_DODGE', 'GUARDIAN_FORTIFY'],\n",
      "  'maxHP': 400,\n",
      "  'moveAPCost': 8,\n",
      "  'name': 'GUARDIAN',\n",
      "  'respawnTime': 5}]\n"
     ]
    }
   ],
   "source": [
    "pprint(data[0]['heroConstants'])"
   ]
  },
  {
   "cell_type": "code",
   "execution_count": 7,
   "metadata": {
    "collapsed": false,
    "scrolled": false
   },
   "outputs": [
    {
     "name": "stdout",
     "output_type": "stream",
     "text": [
      "[{'APCost': 15,\n",
      "  'areaOfEffect': 0,\n",
      "  'cooldown': 0,\n",
      "  'isLobbing': False,\n",
      "  'isPiercing': False,\n",
      "  'name': 'SENTRY_ATTACK',\n",
      "  'power': 30,\n",
      "  'range': 7,\n",
      "  'type': 'OFFENSIVE'},\n",
      " {'APCost': 25,\n",
      "  'areaOfEffect': 0,\n",
      "  'cooldown': 6,\n",
      "  'isLobbing': True,\n",
      "  'isPiercing': False,\n",
      "  'name': 'SENTRY_DODGE',\n",
      "  'power': 0,\n",
      "  'range': 3,\n",
      "  'type': 'DODGE'},\n",
      " {'APCost': 15,\n",
      "  'areaOfEffect': 0,\n",
      "  'cooldown': 0,\n",
      "  'isLobbing': False,\n",
      "  'isPiercing': False,\n",
      "  'name': 'HEALER_ATTACK',\n",
      "  'power': 10,\n",
      "  'range': 4,\n",
      "  'type': 'OFFENSIVE'},\n",
      " {'APCost': 15,\n",
      "  'areaOfEffect': 1,\n",
      "  'cooldown': 0,\n",
      "  'isLobbing': False,\n",
      "  'isPiercing': False,\n",
      "  'name': 'BLASTER_ATTACK',\n",
      "  'power': 30,\n",
      "  'range': 4,\n",
      "  'type': 'OFFENSIVE'},\n",
      " {'APCost': 25,\n",
      "  'areaOfEffect': 0,\n",
      "  'cooldown': 8,\n",
      "  'isLobbing': True,\n",
      "  'isPiercing': False,\n",
      "  'name': 'GUARDIAN_DODGE',\n",
      "  'power': 0,\n",
      "  'range': 2,\n",
      "  'type': 'DODGE'},\n",
      " {'APCost': 25,\n",
      "  'areaOfEffect': 0,\n",
      "  'cooldown': 8,\n",
      "  'isLobbing': True,\n",
      "  'isPiercing': False,\n",
      "  'name': 'GUARDIAN_FORTIFY',\n",
      "  'power': 0,\n",
      "  'range': 4,\n",
      "  'type': 'FORTIFY'},\n",
      " {'APCost': 25,\n",
      "  'areaOfEffect': 0,\n",
      "  'cooldown': 5,\n",
      "  'isLobbing': True,\n",
      "  'isPiercing': False,\n",
      "  'name': 'HEALER_DODGE',\n",
      "  'power': 0,\n",
      "  'range': 4,\n",
      "  'type': 'DODGE'},\n",
      " {'APCost': 25,\n",
      "  'areaOfEffect': 0,\n",
      "  'cooldown': 5,\n",
      "  'isLobbing': True,\n",
      "  'isPiercing': False,\n",
      "  'name': 'BLASTER_DODGE',\n",
      "  'power': 0,\n",
      "  'range': 4,\n",
      "  'type': 'DODGE'},\n",
      " {'APCost': 25,\n",
      "  'areaOfEffect': 2,\n",
      "  'cooldown': 4,\n",
      "  'isLobbing': True,\n",
      "  'isPiercing': False,\n",
      "  'name': 'BLASTER_BOMB',\n",
      "  'power': 40,\n",
      "  'range': 5,\n",
      "  'type': 'OFFENSIVE'},\n",
      " {'APCost': 15,\n",
      "  'areaOfEffect': 1,\n",
      "  'cooldown': 0,\n",
      "  'isLobbing': False,\n",
      "  'isPiercing': False,\n",
      "  'name': 'GUARDIAN_ATTACK',\n",
      "  'power': 20,\n",
      "  'range': 1,\n",
      "  'type': 'OFFENSIVE'},\n",
      " {'APCost': 25,\n",
      "  'areaOfEffect': 0,\n",
      "  'cooldown': 5,\n",
      "  'isLobbing': False,\n",
      "  'isPiercing': False,\n",
      "  'name': 'SENTRY_RAY',\n",
      "  'power': 50,\n",
      "  'range': 1000,\n",
      "  'type': 'OFFENSIVE'},\n",
      " {'APCost': 25,\n",
      "  'areaOfEffect': 0,\n",
      "  'cooldown': 3,\n",
      "  'isLobbing': True,\n",
      "  'isPiercing': False,\n",
      "  'name': 'HEALER_HEAL',\n",
      "  'power': 40,\n",
      "  'range': 4,\n",
      "  'type': 'DEFENSIVE'}]\n"
     ]
    }
   ],
   "source": [
    "pprint(data[0]['abilityConstants'])"
   ]
  },
  {
   "cell_type": "code",
   "execution_count": 14,
   "metadata": {
    "collapsed": false,
    "scrolled": false
   },
   "outputs": [
    {
     "name": "stdout",
     "output_type": "stream",
     "text": [
      "[[{'column': 16, 'id': 0, 'name': 'SENTRY', 'row': 28},\n",
      "  {'column': 17, 'id': 2, 'name': 'BLASTER', 'row': 27},\n",
      "  {'column': 14, 'id': 4, 'name': 'HEALER', 'row': 28},\n",
      "  {'column': 13, 'id': 6, 'name': 'GUARDIAN', 'row': 27}],\n",
      " [{'column': 14, 'id': 1, 'name': 'SENTRY', 'row': 2},\n",
      "  {'column': 17, 'id': 3, 'name': 'BLASTER', 'row': 3},\n",
      "  {'column': 16, 'id': 5, 'name': 'HEALER', 'row': 2},\n",
      "  {'column': 13, 'id': 7, 'name': 'GUARDIAN', 'row': 3}]]\n"
     ]
    }
   ],
   "source": [
    "pprint(data[1]['heroes'])"
   ]
  },
  {
   "cell_type": "code",
   "execution_count": 9,
   "metadata": {
    "collapsed": false
   },
   "outputs": [
    {
     "name": "stdout",
     "output_type": "stream",
     "text": [
      "dict_keys(['currentTurn', 'currentPhase', 'castAbilities', 'players'])\n"
     ]
    }
   ],
   "source": [
    "pprint(data[2].keys())"
   ]
  },
  {
   "cell_type": "code",
   "execution_count": 21,
   "metadata": {
    "collapsed": false,
    "scrolled": true
   },
   "outputs": [
    {
     "name": "stdout",
     "output_type": "stream",
     "text": [
      "4\n"
     ]
    }
   ],
   "source": [
    "pprint(data[4]['currentTurn'])"
   ]
  },
  {
   "cell_type": "code",
   "execution_count": 16,
   "metadata": {
    "collapsed": false,
    "scrolled": false
   },
   "outputs": [
    {
     "name": "stdout",
     "output_type": "stream",
     "text": [
      "'MOVE'\n"
     ]
    }
   ],
   "source": [
    "pprint(data[2]['currentPhase'])"
   ]
  },
  {
   "cell_type": "code",
   "execution_count": 19,
   "metadata": {
    "collapsed": false,
    "scrolled": false
   },
   "outputs": [
    {
     "name": "stdout",
     "output_type": "stream",
     "text": [
      "[{'abilityName': 'SENTRY_DODGE',\n",
      "  'casterId': 0,\n",
      "  'endCell': {'column': 16, 'row': 26},\n",
      "  'startCell': {'column': 16, 'row': 29},\n",
      "  'targetHeroIds': []},\n",
      " {'abilityName': 'BLASTER_DODGE',\n",
      "  'casterId': 2,\n",
      "  'endCell': {'column': 16, 'row': 26},\n",
      "  'startCell': {'column': 17, 'row': 29},\n",
      "  'targetHeroIds': []},\n",
      " {'abilityName': 'HEALER_DODGE',\n",
      "  'casterId': 5,\n",
      "  'endCell': {'column': 15, 'row': 6},\n",
      "  'startCell': {'column': 16, 'row': 3},\n",
      "  'targetHeroIds': []},\n",
      " {'abilityName': 'SENTRY_DODGE',\n",
      "  'casterId': 1,\n",
      "  'endCell': {'column': 14, 'row': 6},\n",
      "  'startCell': {'column': 14, 'row': 3},\n",
      "  'targetHeroIds': []},\n",
      " {'abilityName': 'BLASTER_DODGE',\n",
      "  'casterId': 3,\n",
      "  'endCell': {'column': 16, 'row': 6},\n",
      "  'startCell': {'column': 17, 'row': 3},\n",
      "  'targetHeroIds': []}]\n"
     ]
    }
   ],
   "source": [
    "pprint(data[8]['castAbilities'])"
   ]
  },
  {
   "cell_type": "code",
   "execution_count": 18,
   "metadata": {
    "collapsed": false,
    "scrolled": false
   },
   "outputs": [
    {
     "name": "stdout",
     "output_type": "stream",
     "text": [
      "[{'ap': 78,\n",
      "  'heroes': [{'cooldowns': [{'name': 'SENTRY_ATTACK', 'remCooldown': 0},\n",
      "                            {'name': 'SENTRY_DODGE', 'remCooldown': 0},\n",
      "                            {'name': 'SENTRY_RAY', 'remCooldown': 0}],\n",
      "              'currentCell': {'column': 16, 'row': 29},\n",
      "              'currentHP': 150,\n",
      "              'id': 0,\n",
      "              'recentPath': [{'column': 16, 'row': 28},\n",
      "                             {'column': 16, 'row': 29}],\n",
      "              'respawnTime': 5,\n",
      "              'type': 'SENTRY'},\n",
      "             {'cooldowns': [{'name': 'BLASTER_ATTACK', 'remCooldown': 0},\n",
      "                            {'name': 'BLASTER_DODGE', 'remCooldown': 0},\n",
      "                            {'name': 'BLASTER_BOMB', 'remCooldown': 0}],\n",
      "              'currentCell': {'column': 17, 'row': 28},\n",
      "              'currentHP': 250,\n",
      "              'id': 2,\n",
      "              'recentPath': [{'column': 17, 'row': 27},\n",
      "                             {'column': 17, 'row': 28}],\n",
      "              'respawnTime': 5,\n",
      "              'type': 'BLASTER'},\n",
      "             {'cooldowns': [{'name': 'HEALER_ATTACK', 'remCooldown': 0},\n",
      "                            {'name': 'HEALER_DODGE', 'remCooldown': 0},\n",
      "                            {'name': 'HEALER_HEAL', 'remCooldown': 0}],\n",
      "              'currentCell': {'column': 14, 'row': 29},\n",
      "              'currentHP': 200,\n",
      "              'id': 4,\n",
      "              'recentPath': [{'column': 14, 'row': 28},\n",
      "                             {'column': 14, 'row': 29}],\n",
      "              'respawnTime': 5,\n",
      "              'type': 'HEALER'},\n",
      "             {'cooldowns': [{'name': 'GUARDIAN_ATTACK', 'remCooldown': 0},\n",
      "                            {'name': 'GUARDIAN_DODGE', 'remCooldown': 0},\n",
      "                            {'name': 'GUARDIAN_FORTIFY', 'remCooldown': 0}],\n",
      "              'currentCell': {'column': 13, 'row': 28},\n",
      "              'currentHP': 400,\n",
      "              'id': 6,\n",
      "              'recentPath': [{'column': 13, 'row': 27},\n",
      "                             {'column': 13, 'row': 28}],\n",
      "              'respawnTime': 5,\n",
      "              'type': 'GUARDIAN'}],\n",
      "  'score': 0,\n",
      "  'vision': [{'column': 25, 'row': 26},\n",
      "             {'column': 26, 'row': 26},\n",
      "             {'column': 27, 'row': 26},\n",
      "             {'column': 28, 'row': 26},\n",
      "             {'column': 29, 'row': 26},\n",
      "             {'column': 1, 'row': 27},\n",
      "             {'column': 2, 'row': 27},\n",
      "             {'column': 3, 'row': 27},\n",
      "             {'column': 4, 'row': 27},\n",
      "             {'column': 28, 'row': 18},\n",
      "             {'column': 5, 'row': 27},\n",
      "             {'column': 6, 'row': 27},\n",
      "             {'column': 7, 'row': 27},\n",
      "             {'column': 8, 'row': 27},\n",
      "             {'column': 9, 'row': 27},\n",
      "             {'column': 10, 'row': 27},\n",
      "             {'column': 11, 'row': 27},\n",
      "             {'column': 3, 'row': 19},\n",
      "             {'column': 12, 'row': 27},\n",
      "             {'column': 13, 'row': 27},\n",
      "             {'column': 14, 'row': 27},\n",
      "             {'column': 15, 'row': 27},\n",
      "             {'column': 16, 'row': 27},\n",
      "             {'column': 17, 'row': 27},\n",
      "             {'column': 18, 'row': 27},\n",
      "             {'column': 19, 'row': 27},\n",
      "             {'column': 20, 'row': 27},\n",
      "             {'column': 21, 'row': 27},\n",
      "             {'column': 22, 'row': 27},\n",
      "             {'column': 23, 'row': 27},\n",
      "             {'column': 24, 'row': 27},\n",
      "             {'column': 25, 'row': 27},\n",
      "             {'column': 26, 'row': 27},\n",
      "             {'column': 27, 'row': 27},\n",
      "             {'column': 28, 'row': 27},\n",
      "             {'column': 29, 'row': 27},\n",
      "             {'column': 1, 'row': 28},\n",
      "             {'column': 2, 'row': 28},\n",
      "             {'column': 3, 'row': 28},\n",
      "             {'column': 27, 'row': 19},\n",
      "             {'column': 4, 'row': 28},\n",
      "             {'column': 5, 'row': 28},\n",
      "             {'column': 6, 'row': 28},\n",
      "             {'column': 7, 'row': 28},\n",
      "             {'column': 8, 'row': 28},\n",
      "             {'column': 9, 'row': 28},\n",
      "             {'column': 10, 'row': 28},\n",
      "             {'column': 11, 'row': 28},\n",
      "             {'column': 12, 'row': 28},\n",
      "             {'column': 4, 'row': 20},\n",
      "             {'column': 13, 'row': 28},\n",
      "             {'column': 14, 'row': 28},\n",
      "             {'column': 15, 'row': 28},\n",
      "             {'column': 16, 'row': 28},\n",
      "             {'column': 17, 'row': 28},\n",
      "             {'column': 18, 'row': 28},\n",
      "             {'column': 19, 'row': 28},\n",
      "             {'column': 20, 'row': 28},\n",
      "             {'column': 21, 'row': 28},\n",
      "             {'column': 22, 'row': 28},\n",
      "             {'column': 23, 'row': 28},\n",
      "             {'column': 24, 'row': 28},\n",
      "             {'column': 25, 'row': 28},\n",
      "             {'column': 26, 'row': 28},\n",
      "             {'column': 27, 'row': 28},\n",
      "             {'column': 28, 'row': 28},\n",
      "             {'column': 29, 'row': 28},\n",
      "             {'column': 1, 'row': 29},\n",
      "             {'column': 2, 'row': 29},\n",
      "             {'column': 26, 'row': 20},\n",
      "             {'column': 3, 'row': 29},\n",
      "             {'column': 4, 'row': 29},\n",
      "             {'column': 5, 'row': 29},\n",
      "             {'column': 6, 'row': 29},\n",
      "             {'column': 7, 'row': 29},\n",
      "             {'column': 8, 'row': 29},\n",
      "             {'column': 9, 'row': 29},\n",
      "             {'column': 1, 'row': 21},\n",
      "             {'column': 10, 'row': 29},\n",
      "             {'column': 11, 'row': 29},\n",
      "             {'column': 12, 'row': 29},\n",
      "             {'column': 13, 'row': 29},\n",
      "             {'column': 5, 'row': 21},\n",
      "             {'column': 14, 'row': 29},\n",
      "             {'column': 15, 'row': 29},\n",
      "             {'column': 16, 'row': 29},\n",
      "             {'column': 17, 'row': 29},\n",
      "             {'column': 18, 'row': 29},\n",
      "             {'column': 19, 'row': 29},\n",
      "             {'column': 20, 'row': 29},\n",
      "             {'column': 21, 'row': 29},\n",
      "             {'column': 22, 'row': 29},\n",
      "             {'column': 23, 'row': 29},\n",
      "             {'column': 24, 'row': 29},\n",
      "             {'column': 25, 'row': 29},\n",
      "             {'column': 26, 'row': 29},\n",
      "             {'column': 27, 'row': 29},\n",
      "             {'column': 28, 'row': 29},\n",
      "             {'column': 29, 'row': 29},\n",
      "             {'column': 25, 'row': 21},\n",
      "             {'column': 29, 'row': 21},\n",
      "             {'column': 1, 'row': 22},\n",
      "             {'column': 2, 'row': 22},\n",
      "             {'column': 3, 'row': 22},\n",
      "             {'column': 6, 'row': 22},\n",
      "             {'column': 24, 'row': 22},\n",
      "             {'column': 27, 'row': 22},\n",
      "             {'column': 28, 'row': 22},\n",
      "             {'column': 29, 'row': 22},\n",
      "             {'column': 1, 'row': 23},\n",
      "             {'column': 2, 'row': 23},\n",
      "             {'column': 3, 'row': 23},\n",
      "             {'column': 4, 'row': 23},\n",
      "             {'column': 7, 'row': 23},\n",
      "             {'column': 23, 'row': 23},\n",
      "             {'column': 26, 'row': 23},\n",
      "             {'column': 27, 'row': 23},\n",
      "             {'column': 28, 'row': 23},\n",
      "             {'column': 29, 'row': 23},\n",
      "             {'column': 1, 'row': 24},\n",
      "             {'column': 2, 'row': 24},\n",
      "             {'column': 3, 'row': 24},\n",
      "             {'column': 4, 'row': 24},\n",
      "             {'column': 5, 'row': 24},\n",
      "             {'column': 6, 'row': 24},\n",
      "             {'column': 7, 'row': 24},\n",
      "             {'column': 8, 'row': 24},\n",
      "             {'column': 22, 'row': 24},\n",
      "             {'column': 23, 'row': 24},\n",
      "             {'column': 24, 'row': 24},\n",
      "             {'column': 25, 'row': 24},\n",
      "             {'column': 26, 'row': 24},\n",
      "             {'column': 27, 'row': 24},\n",
      "             {'column': 28, 'row': 24},\n",
      "             {'column': 29, 'row': 24},\n",
      "             {'column': 1, 'row': 25},\n",
      "             {'column': 2, 'row': 25},\n",
      "             {'column': 3, 'row': 25},\n",
      "             {'column': 4, 'row': 25},\n",
      "             {'column': 5, 'row': 25},\n",
      "             {'column': 6, 'row': 25},\n",
      "             {'column': 7, 'row': 25},\n",
      "             {'column': 8, 'row': 25},\n",
      "             {'column': 1, 'row': 17},\n",
      "             {'column': 9, 'row': 25},\n",
      "             {'column': 21, 'row': 25},\n",
      "             {'column': 22, 'row': 25},\n",
      "             {'column': 23, 'row': 25},\n",
      "             {'column': 24, 'row': 25},\n",
      "             {'column': 25, 'row': 25},\n",
      "             {'column': 26, 'row': 25},\n",
      "             {'column': 27, 'row': 25},\n",
      "             {'column': 28, 'row': 25},\n",
      "             {'column': 29, 'row': 25},\n",
      "             {'column': 1, 'row': 26},\n",
      "             {'column': 2, 'row': 26},\n",
      "             {'column': 3, 'row': 26},\n",
      "             {'column': 4, 'row': 26},\n",
      "             {'column': 5, 'row': 26},\n",
      "             {'column': 29, 'row': 17},\n",
      "             {'column': 6, 'row': 26},\n",
      "             {'column': 7, 'row': 26},\n",
      "             {'column': 8, 'row': 26},\n",
      "             {'column': 9, 'row': 26},\n",
      "             {'column': 10, 'row': 26},\n",
      "             {'column': 2, 'row': 18},\n",
      "             {'column': 20, 'row': 26},\n",
      "             {'column': 21, 'row': 26},\n",
      "             {'column': 22, 'row': 26},\n",
      "             {'column': 23, 'row': 26},\n",
      "             {'column': 24, 'row': 26}]},\n",
      " {'ap': 90,\n",
      "  'heroes': [{'cooldowns': [{'name': 'SENTRY_ATTACK', 'remCooldown': 0},\n",
      "                            {'name': 'SENTRY_DODGE', 'remCooldown': 0},\n",
      "                            {'name': 'SENTRY_RAY', 'remCooldown': 0}],\n",
      "              'currentCell': {'column': 14, 'row': 3},\n",
      "              'currentHP': 150,\n",
      "              'id': 1,\n",
      "              'recentPath': [{'column': 14, 'row': 2},\n",
      "                             {'column': 14, 'row': 3}],\n",
      "              'respawnTime': 5,\n",
      "              'type': 'SENTRY'},\n",
      "             {'cooldowns': [{'name': 'BLASTER_ATTACK', 'remCooldown': 0},\n",
      "                            {'name': 'BLASTER_DODGE', 'remCooldown': 0},\n",
      "                            {'name': 'BLASTER_BOMB', 'remCooldown': 0}],\n",
      "              'currentCell': {'column': 17, 'row': 3},\n",
      "              'currentHP': 250,\n",
      "              'id': 3,\n",
      "              'recentPath': [{'column': 17, 'row': 3}],\n",
      "              'respawnTime': 5,\n",
      "              'type': 'BLASTER'},\n",
      "             {'cooldowns': [{'name': 'HEALER_ATTACK', 'remCooldown': 0},\n",
      "                            {'name': 'HEALER_DODGE', 'remCooldown': 0},\n",
      "                            {'name': 'HEALER_HEAL', 'remCooldown': 0}],\n",
      "              'currentCell': {'column': 16, 'row': 3},\n",
      "              'currentHP': 200,\n",
      "              'id': 5,\n",
      "              'recentPath': [{'column': 16, 'row': 2},\n",
      "                             {'column': 16, 'row': 3}],\n",
      "              'respawnTime': 5,\n",
      "              'type': 'HEALER'},\n",
      "             {'cooldowns': [{'name': 'GUARDIAN_ATTACK', 'remCooldown': 0},\n",
      "                            {'name': 'GUARDIAN_DODGE', 'remCooldown': 0},\n",
      "                            {'name': 'GUARDIAN_FORTIFY', 'remCooldown': 0}],\n",
      "              'currentCell': {'column': 13, 'row': 3},\n",
      "              'currentHP': 400,\n",
      "              'id': 7,\n",
      "              'recentPath': [{'column': 13, 'row': 3}],\n",
      "              'respawnTime': 5,\n",
      "              'type': 'GUARDIAN'}],\n",
      "  'score': 0,\n",
      "  'vision': [{'column': 1, 'row': 2},\n",
      "             {'column': 2, 'row': 2},\n",
      "             {'column': 3, 'row': 2},\n",
      "             {'column': 4, 'row': 2},\n",
      "             {'column': 5, 'row': 2},\n",
      "             {'column': 6, 'row': 2},\n",
      "             {'column': 7, 'row': 2},\n",
      "             {'column': 8, 'row': 2},\n",
      "             {'column': 9, 'row': 2},\n",
      "             {'column': 10, 'row': 2},\n",
      "             {'column': 11, 'row': 2},\n",
      "             {'column': 12, 'row': 2},\n",
      "             {'column': 13, 'row': 2},\n",
      "             {'column': 14, 'row': 2},\n",
      "             {'column': 15, 'row': 2},\n",
      "             {'column': 16, 'row': 2},\n",
      "             {'column': 17, 'row': 2},\n",
      "             {'column': 18, 'row': 2},\n",
      "             {'column': 19, 'row': 2},\n",
      "             {'column': 20, 'row': 2},\n",
      "             {'column': 21, 'row': 2},\n",
      "             {'column': 22, 'row': 2},\n",
      "             {'column': 23, 'row': 2},\n",
      "             {'column': 24, 'row': 2},\n",
      "             {'column': 25, 'row': 2},\n",
      "             {'column': 26, 'row': 2},\n",
      "             {'column': 27, 'row': 2},\n",
      "             {'column': 28, 'row': 2},\n",
      "             {'column': 29, 'row': 2},\n",
      "             {'column': 1, 'row': 3},\n",
      "             {'column': 2, 'row': 3},\n",
      "             {'column': 3, 'row': 3},\n",
      "             {'column': 4, 'row': 3},\n",
      "             {'column': 5, 'row': 3},\n",
      "             {'column': 6, 'row': 3},\n",
      "             {'column': 7, 'row': 3},\n",
      "             {'column': 8, 'row': 3},\n",
      "             {'column': 9, 'row': 3},\n",
      "             {'column': 10, 'row': 3},\n",
      "             {'column': 11, 'row': 3},\n",
      "             {'column': 12, 'row': 3},\n",
      "             {'column': 13, 'row': 3},\n",
      "             {'column': 14, 'row': 3},\n",
      "             {'column': 15, 'row': 3},\n",
      "             {'column': 16, 'row': 3},\n",
      "             {'column': 17, 'row': 3},\n",
      "             {'column': 18, 'row': 3},\n",
      "             {'column': 19, 'row': 3},\n",
      "             {'column': 20, 'row': 3},\n",
      "             {'column': 21, 'row': 3},\n",
      "             {'column': 22, 'row': 3},\n",
      "             {'column': 23, 'row': 3},\n",
      "             {'column': 24, 'row': 3},\n",
      "             {'column': 25, 'row': 3},\n",
      "             {'column': 26, 'row': 3},\n",
      "             {'column': 27, 'row': 3},\n",
      "             {'column': 28, 'row': 3},\n",
      "             {'column': 29, 'row': 3},\n",
      "             {'column': 1, 'row': 4},\n",
      "             {'column': 2, 'row': 4},\n",
      "             {'column': 3, 'row': 4},\n",
      "             {'column': 4, 'row': 4},\n",
      "             {'column': 5, 'row': 4},\n",
      "             {'column': 6, 'row': 4},\n",
      "             {'column': 7, 'row': 4},\n",
      "             {'column': 8, 'row': 4},\n",
      "             {'column': 9, 'row': 4},\n",
      "             {'column': 21, 'row': 4},\n",
      "             {'column': 22, 'row': 4},\n",
      "             {'column': 23, 'row': 4},\n",
      "             {'column': 24, 'row': 4},\n",
      "             {'column': 25, 'row': 4},\n",
      "             {'column': 26, 'row': 4},\n",
      "             {'column': 27, 'row': 4},\n",
      "             {'column': 28, 'row': 4},\n",
      "             {'column': 29, 'row': 4},\n",
      "             {'column': 1, 'row': 5},\n",
      "             {'column': 2, 'row': 5},\n",
      "             {'column': 3, 'row': 5},\n",
      "             {'column': 4, 'row': 5},\n",
      "             {'column': 5, 'row': 5},\n",
      "             {'column': 6, 'row': 5},\n",
      "             {'column': 24, 'row': 5},\n",
      "             {'column': 25, 'row': 5},\n",
      "             {'column': 26, 'row': 5},\n",
      "             {'column': 27, 'row': 5},\n",
      "             {'column': 28, 'row': 5},\n",
      "             {'column': 29, 'row': 5},\n",
      "             {'column': 1, 'row': 6},\n",
      "             {'column': 2, 'row': 6},\n",
      "             {'column': 3, 'row': 6},\n",
      "             {'column': 27, 'row': 6},\n",
      "             {'column': 28, 'row': 6},\n",
      "             {'column': 29, 'row': 6},\n",
      "             {'column': 1, 'row': 1},\n",
      "             {'column': 2, 'row': 1},\n",
      "             {'column': 3, 'row': 1},\n",
      "             {'column': 4, 'row': 1},\n",
      "             {'column': 5, 'row': 1},\n",
      "             {'column': 6, 'row': 1},\n",
      "             {'column': 7, 'row': 1},\n",
      "             {'column': 8, 'row': 1},\n",
      "             {'column': 9, 'row': 1},\n",
      "             {'column': 10, 'row': 1},\n",
      "             {'column': 11, 'row': 1},\n",
      "             {'column': 12, 'row': 1},\n",
      "             {'column': 13, 'row': 1},\n",
      "             {'column': 14, 'row': 1},\n",
      "             {'column': 15, 'row': 1},\n",
      "             {'column': 16, 'row': 1},\n",
      "             {'column': 17, 'row': 1},\n",
      "             {'column': 18, 'row': 1},\n",
      "             {'column': 19, 'row': 1},\n",
      "             {'column': 20, 'row': 1},\n",
      "             {'column': 21, 'row': 1},\n",
      "             {'column': 22, 'row': 1},\n",
      "             {'column': 23, 'row': 1},\n",
      "             {'column': 24, 'row': 1},\n",
      "             {'column': 25, 'row': 1},\n",
      "             {'column': 26, 'row': 1},\n",
      "             {'column': 27, 'row': 1},\n",
      "             {'column': 28, 'row': 1},\n",
      "             {'column': 29, 'row': 1}]}]\n"
     ]
    }
   ],
   "source": [
    "pprint(data[2]['players'])"
   ]
  }
 ],
 "metadata": {
  "kernelspec": {
   "display_name": "Python 3",
   "language": "python",
   "name": "python3"
  },
  "language_info": {
   "codemirror_mode": {
    "name": "ipython",
    "version": 3
   },
   "file_extension": ".py",
   "mimetype": "text/x-python",
   "name": "python",
   "nbconvert_exporter": "python",
   "pygments_lexer": "ipython3",
   "version": "3.6.0"
  }
 },
 "nbformat": 4,
 "nbformat_minor": 2
}
